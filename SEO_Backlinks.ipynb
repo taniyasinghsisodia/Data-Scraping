{
  "nbformat": 4,
  "nbformat_minor": 0,
  "metadata": {
    "kernelspec": {
      "display_name": "Python 3",
      "language": "python",
      "name": "python3"
    },
    "language_info": {
      "codemirror_mode": {
        "name": "ipython",
        "version": 3
      },
      "file_extension": ".py",
      "mimetype": "text/x-python",
      "name": "python",
      "nbconvert_exporter": "python",
      "pygments_lexer": "ipython3",
      "version": "3.7.4"
    },
    "colab": {
      "name": "SEO Backlinks.ipynb",
      "provenance": []
    }
  },
  "cells": [
    {
      "cell_type": "markdown",
      "metadata": {
        "id": "EPe7o8wSAPNw"
      },
      "source": [
        "# **GET ALL THE BACKLINKS USING GOOGLE SEARCH AUTOMATION**\n",
        "\n",
        "\n"
      ]
    },
    {
      "cell_type": "code",
      "metadata": {
        "id": "1k7zvToPAPNz",
        "outputId": "b641e0d5-b410-4321-d8cf-274491cd9d60"
      },
      "source": [
        "!pip install selenium"
      ],
      "execution_count": null,
      "outputs": [
        {
          "output_type": "stream",
          "text": [
            "Requirement already satisfied: selenium in c:\\users\\91844\\anaconda3\\lib\\site-packages (3.141.0)\n",
            "Requirement already satisfied: urllib3 in c:\\users\\91844\\anaconda3\\lib\\site-packages (from selenium) (1.24.2)\n"
          ],
          "name": "stdout"
        }
      ]
    },
    {
      "cell_type": "code",
      "metadata": {
        "id": "zRbesGVbAPOD",
        "outputId": "cee569e7-8bb4-4b9b-b7f0-8d671bcda1a1"
      },
      "source": [
        "!pip install webdriver_manager"
      ],
      "execution_count": null,
      "outputs": [
        {
          "output_type": "stream",
          "text": [
            "Collecting webdriver_manager\n",
            "  Downloading https://files.pythonhosted.org/packages/2a/88/bc1f85fd733cf6bcae3c6e5c86ea124e91c49eb694d47dfef7f37f4394eb/webdriver_manager-3.2.2-py2.py3-none-any.whl\n",
            "Collecting configparser (from webdriver_manager)\n",
            "  Downloading https://files.pythonhosted.org/packages/08/b2/ef713e0e67f6e7ec7d59aea3ee78d05b39c15930057e724cc6d362a8c3bb/configparser-5.0.1-py3-none-any.whl\n",
            "Collecting crayons (from webdriver_manager)\n",
            "  Downloading https://files.pythonhosted.org/packages/5b/0d/e3fad4ca1de8e70e06444e7d777a5984261e1db98758b5be3e8296c03fe9/crayons-0.4.0-py2.py3-none-any.whl\n",
            "Requirement already satisfied: requests in c:\\users\\91844\\anaconda3\\lib\\site-packages (from webdriver_manager) (2.22.0)\n",
            "Requirement already satisfied: colorama in c:\\users\\91844\\anaconda3\\lib\\site-packages (from crayons->webdriver_manager) (0.4.1)\n",
            "Requirement already satisfied: chardet<3.1.0,>=3.0.2 in c:\\users\\91844\\anaconda3\\lib\\site-packages (from requests->webdriver_manager) (3.0.4)\n",
            "Requirement already satisfied: idna<2.9,>=2.5 in c:\\users\\91844\\anaconda3\\lib\\site-packages (from requests->webdriver_manager) (2.8)\n",
            "Requirement already satisfied: certifi>=2017.4.17 in c:\\users\\91844\\anaconda3\\lib\\site-packages (from requests->webdriver_manager) (2019.9.11)\n",
            "Requirement already satisfied: urllib3!=1.25.0,!=1.25.1,<1.26,>=1.21.1 in c:\\users\\91844\\anaconda3\\lib\\site-packages (from requests->webdriver_manager) (1.24.2)\n",
            "Installing collected packages: configparser, crayons, webdriver-manager\n",
            "Successfully installed configparser-5.0.1 crayons-0.4.0 webdriver-manager-3.2.2\n"
          ],
          "name": "stdout"
        }
      ]
    },
    {
      "cell_type": "code",
      "metadata": {
        "id": "zuTaXmrvAPOH"
      },
      "source": [
        "from selenium import webdriver\n",
        "from selenium.webdriver.support.ui import WebDriverWait\n",
        "from selenium.webdriver.support import expected_conditions as EC\n",
        "from selenium.webdriver.common.by import By\n",
        "from selenium.webdriver.chrome.options import Options\n",
        "from selenium.webdriver.support.ui import WebDriverWait\n",
        "from selenium.common.exceptions import TimeoutException\n",
        "from time import sleep\n",
        "import urllib.parse\n",
        "import pandas as pd\n",
        "import csv\n",
        "from selenium import webdriver\n",
        "from webdriver_manager.chrome import ChromeDriverManager\n",
        "driver = None\n",
        "Link = \"https://in.search.yahoo.com/search?p=dashclicks+company+videos&fr=yfp-t&fp=1&toggle=1&cop=mss&ei=UTF-8\"\n",
        "wait = None"
      ],
      "execution_count": null,
      "outputs": []
    },
    {
      "cell_type": "code",
      "metadata": {
        "id": "In-UrhGKAPOH",
        "outputId": "f851eb52-8a79-4877-d89c-9c95ee3e53df"
      },
      "source": [
        "chrome_options = Options()\n",
        "chrome_options.add_argument('--user-data-dir=./User_Data')\n",
        "driver = webdriver.Chrome(ChromeDriverManager().install())\n",
        "wait = WebDriverWait(driver, 20)\n",
        "print(\"ok good to go\")\n",
        "driver.get(Link)\n",
        "driver.maximize_window()"
      ],
      "execution_count": null,
      "outputs": [
        {
          "output_type": "stream",
          "text": [
            "[WDM] - Current google-chrome version is 87.0.4280\n",
            "[WDM] - Get LATEST driver version for 87.0.4280\n"
          ],
          "name": "stderr"
        },
        {
          "output_type": "stream",
          "text": [
            " \n"
          ],
          "name": "stdout"
        },
        {
          "output_type": "stream",
          "text": [
            "[WDM] - Driver [C:\\Users\\91844\\.wdm\\drivers\\chromedriver\\win32\\87.0.4280.20\\chromedriver.exe] found in cache\n"
          ],
          "name": "stderr"
        },
        {
          "output_type": "stream",
          "text": [
            "ok good to go\n"
          ],
          "name": "stdout"
        }
      ]
    },
    {
      "cell_type": "markdown",
      "metadata": {
        "id": "Wujxd_EPAPOK"
      },
      "source": [
        "# **USING GOOGLE SEARCH**"
      ]
    },
    {
      "cell_type": "code",
      "metadata": {
        "scrolled": false,
        "id": "YApdY8EkAPOL"
      },
      "source": [
        "#with google search\n",
        "#***********************************************patience required ***********************************************************\n",
        "all_links = []\n",
        "for i in range(0,7,1):\n",
        "    sleep(3)\n",
        "    driver.find_element_by_link_text(\"Next\").click()\n",
        "    get_url = driver.current_url \n",
        "    sleep(10)\n",
        "    list_of_hrefs = []\n",
        "\n",
        "    content_blocks = driver.find_elements_by_class_name(\"yuRUbf\")\n",
        "\n",
        "    for block in content_blocks:\n",
        "        elements = block.find_elements_by_tag_name(\"a\")\n",
        "        for el in elements:\n",
        "            list_of_hrefs.append(el.get_attribute(\"href\"))\n",
        "            window_after = driver.window_handles[0]\n",
        "            sleep(5)\n",
        "            driver.switch_to.window(window_after)\n",
        "            sleep(2)\n",
        "    all_links.extend(list_of_hrefs)\n",
        "#***********************************************patience required ***********************************************************\n",
        "    \n",
        "    \n",
        "    \n",
        "#USING GOOGLE WE ARE GETTING 179 RESULTS CONTAINING OUR QUERY"
      ],
      "execution_count": null,
      "outputs": []
    },
    {
      "cell_type": "markdown",
      "metadata": {
        "id": "Gtr5RgVWAPOM"
      },
      "source": [
        "# **USING YAHOO SEARCH ENGINE**"
      ]
    },
    {
      "cell_type": "code",
      "metadata": {
        "id": "LIzaxFdPAPON"
      },
      "source": [
        "#USING YAHOO SEARCH ENGINE\n",
        "#***********************************************patience required ***********************************************************\n",
        "all_links = []\n",
        "for i in range(0,5,1):\n",
        "    sleep(3)\n",
        "    driver.find_element_by_link_text(\"Next\").click()\n",
        "    get_url = driver.current_url \n",
        "    sleep(5)\n",
        "    list_of_hrefs = []\n",
        "    content_blocks = driver.find_elements_by_css_selector(\"h3[class='title ov-h']\")\n",
        "    for block in content_blocks:\n",
        "        elements = block.find_elements_by_tag_name(\"a\")\n",
        "        #print(elements)\n",
        "        for el in elements:\n",
        "            list_of_hrefs.append(el.get_attribute(\"href\"))\n",
        "            sleep(2)\n",
        "    all_links.extend(list_of_hrefs)\n",
        "\n",
        "    \n",
        "#***********************************************patience required ***********************************************************\n",
        "    \n",
        "    \n"
      ],
      "execution_count": null,
      "outputs": []
    },
    {
      "cell_type": "code",
      "metadata": {
        "id": "GYJ0dQsTAPOO",
        "outputId": "152f62b0-b7e3-46ea-8373-76f9d1685374"
      },
      "source": [
        "all_links[:20]"
      ],
      "execution_count": null,
      "outputs": [
        {
          "output_type": "execute_result",
          "data": {
            "text/plain": [
              "['https://www.dashclicks.com/video-blog/the-webinar-agency-doing-1-3m-helping-experts-retire-with-high-ticket-courses/',\n",
              " 'https://www.youtube.com/watch?v=tUxxUW8TGMY',\n",
              " 'https://www.youtube.com/watch?v=Cno19Iib2SM',\n",
              " 'https://www.youtube.com/watch?v=bmk1PrNc_qE',\n",
              " 'https://www.youtube.com/watch?v=EUWw-vtKVA4',\n",
              " 'https://www.youtube.com/watch?v=udVsUPbJcZY',\n",
              " 'https://www.youtube.com/watch?v=nI_Nz6gpAGI',\n",
              " 'https://whitelabeldigitalmarketingsolutions.blogspot.com/2020/06/how-dashclicks-is-different-from-its.html',\n",
              " 'https://www.g2.com/products/dashclicks/reviews',\n",
              " 'https://www.facebook.com/pages/DashClicks%20-%20Agency%20Platform/286937658751237',\n",
              " 'https://www.dashclicks.com/video-blog/the-webinar-agency-doing-1-3m-helping-experts-retire-with-high-ticket-courses/',\n",
              " 'https://www.youtube.com/watch?v=tUxxUW8TGMY',\n",
              " 'https://www.youtube.com/watch?v=Cno19Iib2SM',\n",
              " 'https://www.youtube.com/watch?v=bmk1PrNc_qE',\n",
              " 'https://www.youtube.com/watch?v=EUWw-vtKVA4',\n",
              " 'https://www.youtube.com/watch?v=udVsUPbJcZY',\n",
              " 'https://www.youtube.com/watch?v=nI_Nz6gpAGI',\n",
              " 'https://whitelabeldigitalmarketingsolutions.blogspot.com/2020/06/how-dashclicks-is-different-from-its.html',\n",
              " 'https://www.g2.com/products/dashclicks/reviews',\n",
              " 'https://www.facebook.com/pages/DashClicks%20-%20Agency%20Platform/286937658751237']"
            ]
          },
          "metadata": {
            "tags": []
          },
          "execution_count": 64
        }
      ]
    },
    {
      "cell_type": "code",
      "metadata": {
        "id": "yF-J7thOAPOR"
      },
      "source": [
        "df = pd.DataFrame(all_links)\n",
        "df.columns=['video_url']\n",
        "\n",
        "#df.to_csv('url.csv',index=False) for saving the result in your system's present location"
      ],
      "execution_count": null,
      "outputs": []
    },
    {
      "cell_type": "code",
      "metadata": {
        "id": "8EIWxn-eAPOR"
      },
      "source": [
        "df.columns=['video_url'] #naming the coulumn"
      ],
      "execution_count": null,
      "outputs": []
    },
    {
      "cell_type": "code",
      "metadata": {
        "id": "l9h97OkGAPOR",
        "outputId": "94fde94b-70c1-4110-9a65-83a635d876b4"
      },
      "source": [
        "df "
      ],
      "execution_count": null,
      "outputs": [
        {
          "output_type": "execute_result",
          "data": {
            "text/html": [
              "<div>\n",
              "<style scoped>\n",
              "    .dataframe tbody tr th:only-of-type {\n",
              "        vertical-align: middle;\n",
              "    }\n",
              "\n",
              "    .dataframe tbody tr th {\n",
              "        vertical-align: top;\n",
              "    }\n",
              "\n",
              "    .dataframe thead th {\n",
              "        text-align: right;\n",
              "    }\n",
              "</style>\n",
              "<table border=\"1\" class=\"dataframe\">\n",
              "  <thead>\n",
              "    <tr style=\"text-align: right;\">\n",
              "      <th></th>\n",
              "      <th>video_url</th>\n",
              "    </tr>\n",
              "  </thead>\n",
              "  <tbody>\n",
              "    <tr>\n",
              "      <td>0</td>\n",
              "      <td>https://www.dashclicks.com/video-blog/the-webi...</td>\n",
              "    </tr>\n",
              "    <tr>\n",
              "      <td>1</td>\n",
              "      <td>https://www.youtube.com/watch?v=tUxxUW8TGMY</td>\n",
              "    </tr>\n",
              "    <tr>\n",
              "      <td>2</td>\n",
              "      <td>https://www.youtube.com/watch?v=Cno19Iib2SM</td>\n",
              "    </tr>\n",
              "    <tr>\n",
              "      <td>3</td>\n",
              "      <td>https://www.youtube.com/watch?v=bmk1PrNc_qE</td>\n",
              "    </tr>\n",
              "    <tr>\n",
              "      <td>4</td>\n",
              "      <td>https://www.youtube.com/watch?v=EUWw-vtKVA4</td>\n",
              "    </tr>\n",
              "    <tr>\n",
              "      <td>5</td>\n",
              "      <td>https://www.youtube.com/watch?v=udVsUPbJcZY</td>\n",
              "    </tr>\n",
              "    <tr>\n",
              "      <td>6</td>\n",
              "      <td>https://www.youtube.com/watch?v=nI_Nz6gpAGI</td>\n",
              "    </tr>\n",
              "    <tr>\n",
              "      <td>7</td>\n",
              "      <td>https://whitelabeldigitalmarketingsolutions.bl...</td>\n",
              "    </tr>\n",
              "    <tr>\n",
              "      <td>8</td>\n",
              "      <td>https://www.g2.com/products/dashclicks/reviews</td>\n",
              "    </tr>\n",
              "    <tr>\n",
              "      <td>9</td>\n",
              "      <td>https://www.facebook.com/pages/DashClicks%20-%...</td>\n",
              "    </tr>\n",
              "    <tr>\n",
              "      <td>10</td>\n",
              "      <td>https://www.dashclicks.com/video-blog/the-webi...</td>\n",
              "    </tr>\n",
              "    <tr>\n",
              "      <td>11</td>\n",
              "      <td>https://www.youtube.com/watch?v=tUxxUW8TGMY</td>\n",
              "    </tr>\n",
              "    <tr>\n",
              "      <td>12</td>\n",
              "      <td>https://www.youtube.com/watch?v=Cno19Iib2SM</td>\n",
              "    </tr>\n",
              "    <tr>\n",
              "      <td>13</td>\n",
              "      <td>https://www.youtube.com/watch?v=bmk1PrNc_qE</td>\n",
              "    </tr>\n",
              "    <tr>\n",
              "      <td>14</td>\n",
              "      <td>https://www.youtube.com/watch?v=EUWw-vtKVA4</td>\n",
              "    </tr>\n",
              "    <tr>\n",
              "      <td>15</td>\n",
              "      <td>https://www.youtube.com/watch?v=udVsUPbJcZY</td>\n",
              "    </tr>\n",
              "    <tr>\n",
              "      <td>16</td>\n",
              "      <td>https://www.youtube.com/watch?v=nI_Nz6gpAGI</td>\n",
              "    </tr>\n",
              "    <tr>\n",
              "      <td>17</td>\n",
              "      <td>https://whitelabeldigitalmarketingsolutions.bl...</td>\n",
              "    </tr>\n",
              "    <tr>\n",
              "      <td>18</td>\n",
              "      <td>https://www.g2.com/products/dashclicks/reviews</td>\n",
              "    </tr>\n",
              "    <tr>\n",
              "      <td>19</td>\n",
              "      <td>https://www.facebook.com/pages/DashClicks%20-%...</td>\n",
              "    </tr>\n",
              "    <tr>\n",
              "      <td>20</td>\n",
              "      <td>https://www.youtube.com/watch?v=yMsRBM2bz6E</td>\n",
              "    </tr>\n",
              "    <tr>\n",
              "      <td>21</td>\n",
              "      <td>https://vimeo.com/301627513</td>\n",
              "    </tr>\n",
              "    <tr>\n",
              "      <td>22</td>\n",
              "      <td>https://www.facebook.com/dashclicksmarketing/v...</td>\n",
              "    </tr>\n",
              "    <tr>\n",
              "      <td>23</td>\n",
              "      <td>https://www.saasworthy.com/product/dashclicks</td>\n",
              "    </tr>\n",
              "    <tr>\n",
              "      <td>24</td>\n",
              "      <td>https://www.capterra.com/p/179692/DashClicks/r...</td>\n",
              "    </tr>\n",
              "    <tr>\n",
              "      <td>25</td>\n",
              "      <td>https://www.facebook.com/dashClicks</td>\n",
              "    </tr>\n",
              "    <tr>\n",
              "      <td>26</td>\n",
              "      <td>https://www.facebook.com/pages/DashClicks%20-%...</td>\n",
              "    </tr>\n",
              "    <tr>\n",
              "      <td>27</td>\n",
              "      <td>https://www.thesanctuaryproject.org/dashclicks...</td>\n",
              "    </tr>\n",
              "    <tr>\n",
              "      <td>28</td>\n",
              "      <td>https://www.capterra.com/advertising-agency-so...</td>\n",
              "    </tr>\n",
              "    <tr>\n",
              "      <td>29</td>\n",
              "      <td>https://www.thesanctuaryproject.org/vendasta-v...</td>\n",
              "    </tr>\n",
              "    <tr>\n",
              "      <td>30</td>\n",
              "      <td>https://www.youtube.com/watch?v=yMsRBM2bz6E</td>\n",
              "    </tr>\n",
              "    <tr>\n",
              "      <td>31</td>\n",
              "      <td>https://vimeo.com/301627513</td>\n",
              "    </tr>\n",
              "    <tr>\n",
              "      <td>32</td>\n",
              "      <td>https://www.facebook.com/dashclicksmarketing/v...</td>\n",
              "    </tr>\n",
              "    <tr>\n",
              "      <td>33</td>\n",
              "      <td>https://www.saasworthy.com/product/dashclicks</td>\n",
              "    </tr>\n",
              "    <tr>\n",
              "      <td>34</td>\n",
              "      <td>https://www.capterra.com/p/179692/DashClicks/r...</td>\n",
              "    </tr>\n",
              "    <tr>\n",
              "      <td>35</td>\n",
              "      <td>https://www.facebook.com/dashClicks</td>\n",
              "    </tr>\n",
              "    <tr>\n",
              "      <td>36</td>\n",
              "      <td>https://www.facebook.com/pages/DashClicks%20-%...</td>\n",
              "    </tr>\n",
              "    <tr>\n",
              "      <td>37</td>\n",
              "      <td>https://www.thesanctuaryproject.org/dashclicks...</td>\n",
              "    </tr>\n",
              "    <tr>\n",
              "      <td>38</td>\n",
              "      <td>https://www.capterra.com/advertising-agency-so...</td>\n",
              "    </tr>\n",
              "    <tr>\n",
              "      <td>39</td>\n",
              "      <td>https://www.thesanctuaryproject.org/vendasta-v...</td>\n",
              "    </tr>\n",
              "    <tr>\n",
              "      <td>40</td>\n",
              "      <td>https://www.youtube.com/watch?v=yMsRBM2bz6E</td>\n",
              "    </tr>\n",
              "    <tr>\n",
              "      <td>41</td>\n",
              "      <td>https://vimeo.com/301627513</td>\n",
              "    </tr>\n",
              "    <tr>\n",
              "      <td>42</td>\n",
              "      <td>https://www.facebook.com/dashclicksmarketing/v...</td>\n",
              "    </tr>\n",
              "    <tr>\n",
              "      <td>43</td>\n",
              "      <td>https://www.saasworthy.com/product/dashclicks</td>\n",
              "    </tr>\n",
              "    <tr>\n",
              "      <td>44</td>\n",
              "      <td>https://www.capterra.com/p/179692/DashClicks/r...</td>\n",
              "    </tr>\n",
              "    <tr>\n",
              "      <td>45</td>\n",
              "      <td>https://www.facebook.com/dashClicks</td>\n",
              "    </tr>\n",
              "    <tr>\n",
              "      <td>46</td>\n",
              "      <td>https://www.facebook.com/pages/DashClicks%20-%...</td>\n",
              "    </tr>\n",
              "    <tr>\n",
              "      <td>47</td>\n",
              "      <td>https://www.thesanctuaryproject.org/dashclicks...</td>\n",
              "    </tr>\n",
              "    <tr>\n",
              "      <td>48</td>\n",
              "      <td>https://www.capterra.com/advertising-agency-so...</td>\n",
              "    </tr>\n",
              "    <tr>\n",
              "      <td>49</td>\n",
              "      <td>https://www.thesanctuaryproject.org/vendasta-v...</td>\n",
              "    </tr>\n",
              "  </tbody>\n",
              "</table>\n",
              "</div>"
            ],
            "text/plain": [
              "                                            video_url\n",
              "0   https://www.dashclicks.com/video-blog/the-webi...\n",
              "1         https://www.youtube.com/watch?v=tUxxUW8TGMY\n",
              "2         https://www.youtube.com/watch?v=Cno19Iib2SM\n",
              "3         https://www.youtube.com/watch?v=bmk1PrNc_qE\n",
              "4         https://www.youtube.com/watch?v=EUWw-vtKVA4\n",
              "5         https://www.youtube.com/watch?v=udVsUPbJcZY\n",
              "6         https://www.youtube.com/watch?v=nI_Nz6gpAGI\n",
              "7   https://whitelabeldigitalmarketingsolutions.bl...\n",
              "8      https://www.g2.com/products/dashclicks/reviews\n",
              "9   https://www.facebook.com/pages/DashClicks%20-%...\n",
              "10  https://www.dashclicks.com/video-blog/the-webi...\n",
              "11        https://www.youtube.com/watch?v=tUxxUW8TGMY\n",
              "12        https://www.youtube.com/watch?v=Cno19Iib2SM\n",
              "13        https://www.youtube.com/watch?v=bmk1PrNc_qE\n",
              "14        https://www.youtube.com/watch?v=EUWw-vtKVA4\n",
              "15        https://www.youtube.com/watch?v=udVsUPbJcZY\n",
              "16        https://www.youtube.com/watch?v=nI_Nz6gpAGI\n",
              "17  https://whitelabeldigitalmarketingsolutions.bl...\n",
              "18     https://www.g2.com/products/dashclicks/reviews\n",
              "19  https://www.facebook.com/pages/DashClicks%20-%...\n",
              "20        https://www.youtube.com/watch?v=yMsRBM2bz6E\n",
              "21                        https://vimeo.com/301627513\n",
              "22  https://www.facebook.com/dashclicksmarketing/v...\n",
              "23      https://www.saasworthy.com/product/dashclicks\n",
              "24  https://www.capterra.com/p/179692/DashClicks/r...\n",
              "25                https://www.facebook.com/dashClicks\n",
              "26  https://www.facebook.com/pages/DashClicks%20-%...\n",
              "27  https://www.thesanctuaryproject.org/dashclicks...\n",
              "28  https://www.capterra.com/advertising-agency-so...\n",
              "29  https://www.thesanctuaryproject.org/vendasta-v...\n",
              "30        https://www.youtube.com/watch?v=yMsRBM2bz6E\n",
              "31                        https://vimeo.com/301627513\n",
              "32  https://www.facebook.com/dashclicksmarketing/v...\n",
              "33      https://www.saasworthy.com/product/dashclicks\n",
              "34  https://www.capterra.com/p/179692/DashClicks/r...\n",
              "35                https://www.facebook.com/dashClicks\n",
              "36  https://www.facebook.com/pages/DashClicks%20-%...\n",
              "37  https://www.thesanctuaryproject.org/dashclicks...\n",
              "38  https://www.capterra.com/advertising-agency-so...\n",
              "39  https://www.thesanctuaryproject.org/vendasta-v...\n",
              "40        https://www.youtube.com/watch?v=yMsRBM2bz6E\n",
              "41                        https://vimeo.com/301627513\n",
              "42  https://www.facebook.com/dashclicksmarketing/v...\n",
              "43      https://www.saasworthy.com/product/dashclicks\n",
              "44  https://www.capterra.com/p/179692/DashClicks/r...\n",
              "45                https://www.facebook.com/dashClicks\n",
              "46  https://www.facebook.com/pages/DashClicks%20-%...\n",
              "47  https://www.thesanctuaryproject.org/dashclicks...\n",
              "48  https://www.capterra.com/advertising-agency-so...\n",
              "49  https://www.thesanctuaryproject.org/vendasta-v..."
            ]
          },
          "metadata": {
            "tags": []
          },
          "execution_count": 62
        }
      ]
    },
    {
      "cell_type": "markdown",
      "metadata": {
        "id": "N1UdtBgLAPOT"
      },
      "source": [
        "# **REFERRING DOMAIN CHECKING**"
      ]
    },
    {
      "cell_type": "code",
      "metadata": {
        "id": "fof836x9APOT",
        "outputId": "08238db7-83f0-462f-cf92-ec843b5398c3"
      },
      "source": [
        "!pip install fuzzywuzzy"
      ],
      "execution_count": null,
      "outputs": [
        {
          "output_type": "stream",
          "text": [
            "Requirement already satisfied: fuzzywuzzy in c:\\users\\91844\\anaconda3\\lib\\site-packages (0.18.0)\n"
          ],
          "name": "stdout"
        }
      ]
    },
    {
      "cell_type": "code",
      "metadata": {
        "id": "jNHnPgi-APOV",
        "outputId": "50ca1b9d-64c7-48a5-8f8f-5ce7744ce155"
      },
      "source": [
        "from fuzzywuzzy import fuzz\n",
        "\n",
        "# process is used to compare a string to MULTIPLE other strings\n",
        "from fuzzywuzzy import process"
      ],
      "execution_count": null,
      "outputs": [
        {
          "output_type": "stream",
          "text": [
            "C:\\Users\\91844\\Anaconda3\\lib\\site-packages\\fuzzywuzzy\\fuzz.py:11: UserWarning: Using slow pure-python SequenceMatcher. Install python-Levenshtein to remove this warning\n",
            "  warnings.warn('Using slow pure-python SequenceMatcher. Install python-Levenshtein to remove this warning')\n"
          ],
          "name": "stderr"
        }
      ]
    },
    {
      "cell_type": "code",
      "metadata": {
        "id": "NXb-WI-2APOX",
        "outputId": "51866967-b828-47c5-81af-96301896029e"
      },
      "source": [
        "# df.columns = ['name']\n",
        "df.columns"
      ],
      "execution_count": null,
      "outputs": [
        {
          "output_type": "execute_result",
          "data": {
            "text/plain": [
              "Index(['video_url'], dtype='object')"
            ]
          },
          "metadata": {
            "tags": []
          },
          "execution_count": 65
        }
      ]
    },
    {
      "cell_type": "code",
      "metadata": {
        "id": "y_YwcKkTAPOZ",
        "outputId": "2384597f-2d33-4187-aa5c-13ae9f05d6c5"
      },
      "source": [
        "def get_ratio(row):\n",
        "    name = row['video_url']\n",
        "    return fuzz.token_sort_ratio(name, \"youtube\")\n",
        "df[df.apply(get_ratio, axis=1) > 10]"
      ],
      "execution_count": null,
      "outputs": [
        {
          "output_type": "execute_result",
          "data": {
            "text/html": [
              "<div>\n",
              "<style scoped>\n",
              "    .dataframe tbody tr th:only-of-type {\n",
              "        vertical-align: middle;\n",
              "    }\n",
              "\n",
              "    .dataframe tbody tr th {\n",
              "        vertical-align: top;\n",
              "    }\n",
              "\n",
              "    .dataframe thead th {\n",
              "        text-align: right;\n",
              "    }\n",
              "</style>\n",
              "<table border=\"1\" class=\"dataframe\">\n",
              "  <thead>\n",
              "    <tr style=\"text-align: right;\">\n",
              "      <th></th>\n",
              "      <th>video_url</th>\n",
              "    </tr>\n",
              "  </thead>\n",
              "  <tbody>\n",
              "    <tr>\n",
              "      <td>1</td>\n",
              "      <td>https://www.youtube.com/watch?v=tUxxUW8TGMY</td>\n",
              "    </tr>\n",
              "    <tr>\n",
              "      <td>2</td>\n",
              "      <td>https://www.youtube.com/watch?v=Cno19Iib2SM</td>\n",
              "    </tr>\n",
              "    <tr>\n",
              "      <td>3</td>\n",
              "      <td>https://www.youtube.com/watch?v=bmk1PrNc_qE</td>\n",
              "    </tr>\n",
              "    <tr>\n",
              "      <td>4</td>\n",
              "      <td>https://www.youtube.com/watch?v=EUWw-vtKVA4</td>\n",
              "    </tr>\n",
              "    <tr>\n",
              "      <td>5</td>\n",
              "      <td>https://www.youtube.com/watch?v=udVsUPbJcZY</td>\n",
              "    </tr>\n",
              "    <tr>\n",
              "      <td>6</td>\n",
              "      <td>https://www.youtube.com/watch?v=nI_Nz6gpAGI</td>\n",
              "    </tr>\n",
              "    <tr>\n",
              "      <td>8</td>\n",
              "      <td>https://www.g2.com/products/dashclicks/reviews</td>\n",
              "    </tr>\n",
              "    <tr>\n",
              "      <td>11</td>\n",
              "      <td>https://www.youtube.com/watch?v=tUxxUW8TGMY</td>\n",
              "    </tr>\n",
              "    <tr>\n",
              "      <td>12</td>\n",
              "      <td>https://www.youtube.com/watch?v=Cno19Iib2SM</td>\n",
              "    </tr>\n",
              "    <tr>\n",
              "      <td>13</td>\n",
              "      <td>https://www.youtube.com/watch?v=bmk1PrNc_qE</td>\n",
              "    </tr>\n",
              "    <tr>\n",
              "      <td>14</td>\n",
              "      <td>https://www.youtube.com/watch?v=EUWw-vtKVA4</td>\n",
              "    </tr>\n",
              "    <tr>\n",
              "      <td>15</td>\n",
              "      <td>https://www.youtube.com/watch?v=udVsUPbJcZY</td>\n",
              "    </tr>\n",
              "    <tr>\n",
              "      <td>16</td>\n",
              "      <td>https://www.youtube.com/watch?v=nI_Nz6gpAGI</td>\n",
              "    </tr>\n",
              "    <tr>\n",
              "      <td>18</td>\n",
              "      <td>https://www.g2.com/products/dashclicks/reviews</td>\n",
              "    </tr>\n",
              "    <tr>\n",
              "      <td>20</td>\n",
              "      <td>https://www.youtube.com/watch?v=yMsRBM2bz6E</td>\n",
              "    </tr>\n",
              "    <tr>\n",
              "      <td>21</td>\n",
              "      <td>https://vimeo.com/301627513</td>\n",
              "    </tr>\n",
              "    <tr>\n",
              "      <td>23</td>\n",
              "      <td>https://www.saasworthy.com/product/dashclicks</td>\n",
              "    </tr>\n",
              "    <tr>\n",
              "      <td>27</td>\n",
              "      <td>https://www.thesanctuaryproject.org/dashclicks...</td>\n",
              "    </tr>\n",
              "    <tr>\n",
              "      <td>29</td>\n",
              "      <td>https://www.thesanctuaryproject.org/vendasta-v...</td>\n",
              "    </tr>\n",
              "    <tr>\n",
              "      <td>30</td>\n",
              "      <td>https://www.youtube.com/watch?v=yMsRBM2bz6E</td>\n",
              "    </tr>\n",
              "    <tr>\n",
              "      <td>31</td>\n",
              "      <td>https://vimeo.com/301627513</td>\n",
              "    </tr>\n",
              "    <tr>\n",
              "      <td>33</td>\n",
              "      <td>https://www.saasworthy.com/product/dashclicks</td>\n",
              "    </tr>\n",
              "    <tr>\n",
              "      <td>37</td>\n",
              "      <td>https://www.thesanctuaryproject.org/dashclicks...</td>\n",
              "    </tr>\n",
              "    <tr>\n",
              "      <td>39</td>\n",
              "      <td>https://www.thesanctuaryproject.org/vendasta-v...</td>\n",
              "    </tr>\n",
              "    <tr>\n",
              "      <td>40</td>\n",
              "      <td>https://www.youtube.com/watch?v=yMsRBM2bz6E</td>\n",
              "    </tr>\n",
              "    <tr>\n",
              "      <td>41</td>\n",
              "      <td>https://vimeo.com/301627513</td>\n",
              "    </tr>\n",
              "    <tr>\n",
              "      <td>43</td>\n",
              "      <td>https://www.saasworthy.com/product/dashclicks</td>\n",
              "    </tr>\n",
              "    <tr>\n",
              "      <td>47</td>\n",
              "      <td>https://www.thesanctuaryproject.org/dashclicks...</td>\n",
              "    </tr>\n",
              "    <tr>\n",
              "      <td>49</td>\n",
              "      <td>https://www.thesanctuaryproject.org/vendasta-v...</td>\n",
              "    </tr>\n",
              "  </tbody>\n",
              "</table>\n",
              "</div>"
            ],
            "text/plain": [
              "                                            video_url\n",
              "1         https://www.youtube.com/watch?v=tUxxUW8TGMY\n",
              "2         https://www.youtube.com/watch?v=Cno19Iib2SM\n",
              "3         https://www.youtube.com/watch?v=bmk1PrNc_qE\n",
              "4         https://www.youtube.com/watch?v=EUWw-vtKVA4\n",
              "5         https://www.youtube.com/watch?v=udVsUPbJcZY\n",
              "6         https://www.youtube.com/watch?v=nI_Nz6gpAGI\n",
              "8      https://www.g2.com/products/dashclicks/reviews\n",
              "11        https://www.youtube.com/watch?v=tUxxUW8TGMY\n",
              "12        https://www.youtube.com/watch?v=Cno19Iib2SM\n",
              "13        https://www.youtube.com/watch?v=bmk1PrNc_qE\n",
              "14        https://www.youtube.com/watch?v=EUWw-vtKVA4\n",
              "15        https://www.youtube.com/watch?v=udVsUPbJcZY\n",
              "16        https://www.youtube.com/watch?v=nI_Nz6gpAGI\n",
              "18     https://www.g2.com/products/dashclicks/reviews\n",
              "20        https://www.youtube.com/watch?v=yMsRBM2bz6E\n",
              "21                        https://vimeo.com/301627513\n",
              "23      https://www.saasworthy.com/product/dashclicks\n",
              "27  https://www.thesanctuaryproject.org/dashclicks...\n",
              "29  https://www.thesanctuaryproject.org/vendasta-v...\n",
              "30        https://www.youtube.com/watch?v=yMsRBM2bz6E\n",
              "31                        https://vimeo.com/301627513\n",
              "33      https://www.saasworthy.com/product/dashclicks\n",
              "37  https://www.thesanctuaryproject.org/dashclicks...\n",
              "39  https://www.thesanctuaryproject.org/vendasta-v...\n",
              "40        https://www.youtube.com/watch?v=yMsRBM2bz6E\n",
              "41                        https://vimeo.com/301627513\n",
              "43      https://www.saasworthy.com/product/dashclicks\n",
              "47  https://www.thesanctuaryproject.org/dashclicks...\n",
              "49  https://www.thesanctuaryproject.org/vendasta-v..."
            ]
          },
          "metadata": {
            "tags": []
          },
          "execution_count": 67
        }
      ]
    },
    {
      "cell_type": "markdown",
      "metadata": {
        "id": "vUX4LcEwAPOa"
      },
      "source": [
        "# **CHECK TYPE OF URL**"
      ]
    },
    {
      "cell_type": "code",
      "metadata": {
        "id": "K1CFSvqaAPOa",
        "outputId": "567c1dab-af0e-4726-cca1-6c16ff01226c"
      },
      "source": [
        "import urllib.request\n",
        "with urllib.request.urlopen('http://www.google.com') as response:\n",
        "    info = response.info()\n",
        "    print(info.get_content_type())      # -> text/html\n",
        "    print(info.get_content_maintype())  # -> text\n",
        "    print(info.get_content_subtype())   # -> html\n"
      ],
      "execution_count": null,
      "outputs": [
        {
          "output_type": "stream",
          "text": [
            "text/html\n",
            "text\n",
            "html\n"
          ],
          "name": "stdout"
        }
      ]
    },
    {
      "cell_type": "code",
      "metadata": {
        "id": "e57uybxpAPOd"
      },
      "source": [
        "url='https://www.youtube.com/'"
      ],
      "execution_count": null,
      "outputs": []
    },
    {
      "cell_type": "code",
      "metadata": {
        "id": "aaQ_oUZ0APOd",
        "outputId": "58f001c0-dcce-4c71-8ebe-243ef8f06abd"
      },
      "source": [
        "req = urllib.request.Request(url, method='HEAD', headers={'User-Agent': 'Mozilla/5.0 (Windows NT 10.0; Win64; x64; rv:82.0) Gecko/20100101 Firefox/82.0'})\n",
        "r = urllib.request.urlopen(req)\n",
        "r.getheader('Content-Type')"
      ],
      "execution_count": null,
      "outputs": [
        {
          "output_type": "execute_result",
          "data": {
            "text/plain": [
              "'text/html; charset=utf-8'"
            ]
          },
          "metadata": {
            "tags": []
          },
          "execution_count": 8
        }
      ]
    },
    {
      "cell_type": "code",
      "metadata": {
        "id": "45piwzJSAPOf",
        "outputId": "62797c3e-b878-4add-da02-da42336cfc28"
      },
      "source": [
        "import mimetypes\n",
        "url = 'http://media.theaterchurch.com/podcast/video/hd/720p/2016/05-08-16-720p.mp4'\n",
        "print (mimetypes.MimeTypes().guess_type(url)[0])"
      ],
      "execution_count": null,
      "outputs": [
        {
          "output_type": "stream",
          "text": [
            "video/mp4\n"
          ],
          "name": "stdout"
        }
      ]
    },
    {
      "cell_type": "markdown",
      "metadata": {
        "id": "TWkqWmIhAPOg"
      },
      "source": [
        "# **ADVANCE URL ANALYSIS**"
      ]
    },
    {
      "cell_type": "code",
      "metadata": {
        "id": "PaTs7DotAPOg",
        "outputId": "82c8843c-7c14-4ad9-c8f0-94540bd7cd19"
      },
      "source": [
        "!pip install url-summary"
      ],
      "execution_count": null,
      "outputs": [
        {
          "output_type": "stream",
          "text": [
            "Collecting url-summary\n",
            "  Downloading https://files.pythonhosted.org/packages/7a/16/e68eceb8b27f70594ab421277c55a0e7ae8753d93ab81421de0e040ac1a5/url-summary-0.0.4.tar.gz\n",
            "Requirement already satisfied: six in c:\\users\\91844\\anaconda3\\lib\\site-packages (from url-summary) (1.12.0)\n",
            "Collecting typing (from url-summary)\n",
            "  Downloading https://files.pythonhosted.org/packages/05/d9/6eebe19d46bd05360c9a9aae822e67a80f9242aabbfc58b641b957546607/typing-3.7.4.3.tar.gz (78kB)\n",
            "Building wheels for collected packages: url-summary, typing\n",
            "  Building wheel for url-summary (setup.py): started\n",
            "  Building wheel for url-summary (setup.py): finished with status 'done'\n",
            "  Created wheel for url-summary: filename=url_summary-0.0.4-cp37-none-any.whl size=3928 sha256=e8aa51e4529a01f9e651bb038428224c82382a1a82a3abc192412244aba94c94\n",
            "  Stored in directory: C:\\Users\\91844\\AppData\\Local\\pip\\Cache\\wheels\\cb\\fb\\bf\\8c5493f0a755bf1ee2b3221548676b421279661cbd90683ed1\n",
            "  Building wheel for typing (setup.py): started\n",
            "  Building wheel for typing (setup.py): finished with status 'done'\n",
            "  Created wheel for typing: filename=typing-3.7.4.3-cp37-none-any.whl size=26312 sha256=838e7abebbd701e47a9e87599c16db9f88d0823cbedb03595a54a0e0c28f20a1\n",
            "  Stored in directory: C:\\Users\\91844\\AppData\\Local\\pip\\Cache\\wheels\\2d\\04\\41\\8e1836e79581989c22eebac3f4e70aaac9af07b0908da173be\n",
            "Successfully built url-summary typing\n",
            "Installing collected packages: typing, url-summary\n",
            "Successfully installed typing-3.7.4.3 url-summary-0.0.4\n"
          ],
          "name": "stdout"
        }
      ]
    },
    {
      "cell_type": "code",
      "metadata": {
        "id": "zpImP4pXAPOh"
      },
      "source": [
        "#**************************************************URL ANALYSIS*************************************************************\n",
        "urls=[ 'https://www.youtube.com/watch?v=udVsUPbJcZY',\n",
        " 'https://www.youtube.com/watch?v=nI_Nz6gpAGI',\n",
        " 'https://whitelabeldigitalmarketingsolutions.blogspot.com/2020/06/how-dashclicks-is-different-from-its.html',\n",
        " 'https://www.g2.com/products/dashclicks/reviews',\n",
        " 'https://www.facebook.com/pages/DashClicks%20-%20Agency%20Platform/286937658751237',\n",
        " 'https://www.dashclicks.com/video-blog/the-webinar-agency-doing-1-3m-helping-experts-retire-with-high-ticket-courses/',\n",
        " 'https://www.youtube.com/watch?v=tUxxUW8TGMY',\n",
        " 'https://www.youtube.com/watch?v=Cno19Iib2SM',\n",
        " 'https://www.youtube.com/watch?v=bmk1PrNc_qE',\n",
        " 'https://www.youtube.com/watch?v=EUWw-vtKVA4',]\n"
      ],
      "execution_count": null,
      "outputs": []
    },
    {
      "cell_type": "code",
      "metadata": {
        "id": "qQ3VG2DXAPOj",
        "outputId": "8d74aa53-b244-40fc-af38-5866a65ead87"
      },
      "source": [
        "import url_summary\n",
        "\n",
        "url_summary.get_summary(urls)\n",
        "\n",
        "#**************************************************URL ANALYSIS*************************************************************"
      ],
      "execution_count": null,
      "outputs": [
        {
          "output_type": "execute_result",
          "data": {
            "text/html": [
              "<ul>        <li>\n",
              "            <span href=\"#\" style=\"cursor: pointer\"\n",
              "             onclick=\"                var el = document.getElementById('7328a5bf-79ca-4fda-98de-bea25a68aa5f');                 this.getElementsByTagName('SPAN')[0].textContent =                     el.classList.contains('hidden') ? '&#9660' : '&#9658';                 el.classList.toggle('hidden')\"\n",
              "             >15 all: <b></b> <span>&#9658;</span></span>\n",
              "            <ul id=\"7328a5bf-79ca-4fda-98de-bea25a68aa5f\" class=\"hidden\" style=\"margin-top: 0\"><li><a href=\"https://analytics.twitter.com/\" target=\"_blank\">https://analytics.twitter.com/</a></li>\n",
              "<li><a href=\"https://carstereoremoval.com/htm/stereoremovalChevrolet.htm\" target=\"_blank\">https://carstereoremoval.com/htm/stereoremovalChevrolet.htm</a></li>\n",
              "<li><a href=\"https://www.medwrench.com/equipment/942/ge-healthcare-dash-4000\" target=\"_blank\">https://www.medwrench.com/equipment/942/ge-healthcare-dash-4000</a></li>\n",
              "<li>&hellip;</li></ul>\n",
              "        </li>\n",
              "        <li>\n",
              "            <span href=\"#\" style=\"cursor: pointer\"\n",
              "             onclick=\"                var el = document.getElementById('83492b60-a81f-428b-a28a-475af38295ff');                 this.getElementsByTagName('SPAN')[0].textContent =                     el.classList.contains('hidden') ? '&#9660' : '&#9658';                 el.classList.toggle('hidden')\"\n",
              "             >2 netloc: <b>top50adagencies.com</b> <span>&#9658;</span></span>\n",
              "            <ul id=\"83492b60-a81f-428b-a28a-475af38295ff\" class=\"hidden\" style=\"margin-top: 0\"><li><a href=\"https://top50adagencies.com/dashclicks.com\" target=\"_blank\">https://<b style=\"color: black\">top50adagencies.com</b>/dashclicks.com</a></li>\n",
              "<li><a href=\"https://top50adagencies.com/dashclicks.com\" target=\"_blank\">https://<b style=\"color: black\">top50adagencies.com</b>/dashclicks.com</a></li></ul>\n",
              "        </li>\n",
              "        <li>\n",
              "            <span href=\"#\" style=\"cursor: pointer\"\n",
              "             onclick=\"                var el = document.getElementById('a1b871fb-85c0-4cfc-a5aa-48d1c2749543');                 this.getElementsByTagName('SPAN')[0].textContent =                     el.classList.contains('hidden') ? '&#9660' : '&#9658';                 el.classList.toggle('hidden')\"\n",
              "             >2 path start: <b>/dashclicks.com</b> <span>&#9658;</span></span>\n",
              "            <ul id=\"a1b871fb-85c0-4cfc-a5aa-48d1c2749543\" class=\"hidden\" style=\"margin-top: 0\"><li><a href=\"https://top50adagencies.com/dashclicks.com\" target=\"_blank\">https://top50adagencies.com/<b style=\"color: black\">dashclicks.com</b></a></li>\n",
              "<li><a href=\"https://top50adagencies.com/dashclicks.com\" target=\"_blank\">https://top50adagencies.com/<b style=\"color: black\">dashclicks.com</b></a></li></ul>\n",
              "        </li>\n",
              "        <li>\n",
              "            <span href=\"#\" style=\"cursor: pointer\"\n",
              "             onclick=\"                var el = document.getElementById('2f6aa6cb-b804-4d0a-b1c8-ec503b4482a1');                 this.getElementsByTagName('SPAN')[0].textContent =                     el.classList.contains('hidden') ? '&#9660' : '&#9658';                 el.classList.toggle('hidden')\"\n",
              "             >2 path start: <b>/threads</b> <span>&#9658;</span></span>\n",
              "            <ul id=\"2f6aa6cb-b804-4d0a-b1c8-ec503b4482a1\" class=\"hidden\" style=\"margin-top: 0\"><li><a href=\"https://www.cadillacforums.com/threads/no-start-all-dash-lights-no-turn-over.495105/\" target=\"_blank\">https://www.cadillacforums.com/<b style=\"color: black\">threads</b>/no-start-all-dash-lights-no-turn-over.495105/</a></li>\n",
              "<li><a href=\"https://www.greentractortalk.com/threads/5065e-just-clicks.13488/\" target=\"_blank\">https://www.greentractortalk.com/<b style=\"color: black\">threads</b>/5065e-just-clicks.13488/</a></li></ul>\n",
              "        </li>\n",
              "        <li>\n",
              "            <span href=\"#\" style=\"cursor: pointer\"\n",
              "             onclick=\"                var el = document.getElementById('6f909055-a484-4b65-b964-13f02fe612e4');                 this.getElementsByTagName('SPAN')[0].textContent =                     el.classList.contains('hidden') ? '&#9660' : '&#9658';                 el.classList.toggle('hidden')\"\n",
              "             >1 netloc: <b>analytics.twitter.com</b> <span>&#9658;</span></span>\n",
              "            <ul id=\"6f909055-a484-4b65-b964-13f02fe612e4\" class=\"hidden\" style=\"margin-top: 0\"><li><a href=\"https://analytics.twitter.com/\" target=\"_blank\">https://<b style=\"color: black\">analytics.twitter.com</b>/</a></li></ul>\n",
              "        </li>\n",
              "        <li>\n",
              "            <span href=\"#\" style=\"cursor: pointer\"\n",
              "             onclick=\"                var el = document.getElementById('7b344398-b651-4a8a-b6a8-81ff30062f22');                 this.getElementsByTagName('SPAN')[0].textContent =                     el.classList.contains('hidden') ? '&#9660' : '&#9658';                 el.classList.toggle('hidden')\"\n",
              "             >1 netloc: <b>carstereoremoval.com</b> <span>&#9658;</span></span>\n",
              "            <ul id=\"7b344398-b651-4a8a-b6a8-81ff30062f22\" class=\"hidden\" style=\"margin-top: 0\"><li><a href=\"https://carstereoremoval.com/htm/stereoremovalChevrolet.htm\" target=\"_blank\">https://<b style=\"color: black\">carstereoremoval.com</b>/htm/stereoremovalChevrolet.htm</a></li></ul>\n",
              "        </li>\n",
              "        <li>\n",
              "            <span href=\"#\" style=\"cursor: pointer\"\n",
              "             onclick=\"                var el = document.getElementById('ca07c23a-8c21-4141-98af-3c2f205bacea');                 this.getElementsByTagName('SPAN')[0].textContent =                     el.classList.contains('hidden') ? '&#9660' : '&#9658';                 el.classList.toggle('hidden')\"\n",
              "             >1 netloc: <b>toyheadauto.com</b> <span>&#9658;</span></span>\n",
              "            <ul id=\"ca07c23a-8c21-4141-98af-3c2f205bacea\" class=\"hidden\" style=\"margin-top: 0\"><li><a href=\"http://toyheadauto.com/Dash_Caps___Dash_Pads.html\" target=\"_blank\">http://<b style=\"color: black\">toyheadauto.com</b>/Dash_Caps___Dash_Pads.html</a></li></ul>\n",
              "        </li>\n",
              "        <li>\n",
              "            <span href=\"#\" style=\"cursor: pointer\"\n",
              "             onclick=\"                var el = document.getElementById('a9b8fbec-5287-42eb-b7d0-ebd768b64353');                 this.getElementsByTagName('SPAN')[0].textContent =                     el.classList.contains('hidden') ? '&#9660' : '&#9658';                 el.classList.toggle('hidden')\"\n",
              "             >1 netloc: <b>troubleshootmyvehicle.com</b> <span>&#9658;</span></span>\n",
              "            <ul id=\"a9b8fbec-5287-42eb-b7d0-ebd768b64353\" class=\"hidden\" style=\"margin-top: 0\"><li><a href=\"https://troubleshootmyvehicle.com/honda/1.6L/under-dash-fuse-box\" target=\"_blank\">https://<b style=\"color: black\">troubleshootmyvehicle.com</b>/honda/1.6L/under-dash-fuse-box</a></li></ul>\n",
              "        </li>\n",
              "        <li>\n",
              "            <span href=\"#\" style=\"cursor: pointer\"\n",
              "             onclick=\"                var el = document.getElementById('0339f08d-b7eb-4b0e-bd51-ae00874cfd9e');                 this.getElementsByTagName('SPAN')[0].textContent =                     el.classList.contains('hidden') ? '&#9660' : '&#9658';                 el.classList.toggle('hidden')\"\n",
              "             >1 netloc: <b>www.billstractor.net</b> <span>&#9658;</span></span>\n",
              "            <ul id=\"0339f08d-b7eb-4b0e-bd51-ae00874cfd9e\" class=\"hidden\" style=\"margin-top: 0\"><li><a href=\"https://www.billstractor.net/swkeknfor40m.html\" target=\"_blank\">https://<b style=\"color: black\">www.billstractor.net</b>/swkeknfor40m.html</a></li></ul>\n",
              "        </li>\n",
              "        <li>\n",
              "            <span href=\"#\" style=\"cursor: pointer\"\n",
              "             onclick=\"                var el = document.getElementById('dba5771b-13f9-47d2-9584-b864e5846b62');                 this.getElementsByTagName('SPAN')[0].textContent =                     el.classList.contains('hidden') ? '&#9660' : '&#9658';                 el.classList.toggle('hidden')\"\n",
              "             >1 netloc: <b>www.cadillacforums.com</b> <span>&#9658;</span></span>\n",
              "            <ul id=\"dba5771b-13f9-47d2-9584-b864e5846b62\" class=\"hidden\" style=\"margin-top: 0\"><li><a href=\"https://www.cadillacforums.com/threads/no-start-all-dash-lights-no-turn-over.495105/\" target=\"_blank\">https://<b style=\"color: black\">www.cadillacforums.com</b>/threads/no-start-all-dash-lights-no-turn-over.495105/</a></li></ul>\n",
              "        </li>\n",
              "        <li>\n",
              "            <span href=\"#\" style=\"cursor: pointer\"\n",
              "             onclick=\"                var el = document.getElementById('4fc0c862-0898-48f4-8192-fc990b424b62');                 this.getElementsByTagName('SPAN')[0].textContent =                     el.classList.contains('hidden') ? '&#9660' : '&#9658';                 el.classList.toggle('hidden')\"\n",
              "             >1 netloc: <b>www.compustar.com</b> <span>&#9658;</span></span>\n",
              "            <ul id=\"4fc0c862-0898-48f4-8192-fc990b424b62\" class=\"hidden\" style=\"margin-top: 0\"><li><a href=\"https://www.compustar.com/\" target=\"_blank\">https://<b style=\"color: black\">www.compustar.com</b>/</a></li></ul>\n",
              "        </li>\n",
              "        <li>\n",
              "            <span href=\"#\" style=\"cursor: pointer\"\n",
              "             onclick=\"                var el = document.getElementById('0ff3303f-315b-4712-9f05-e2e00f690fa4');                 this.getElementsByTagName('SPAN')[0].textContent =                     el.classList.contains('hidden') ? '&#9660' : '&#9658';                 el.classList.toggle('hidden')\"\n",
              "             >1 netloc: <b>www.crazygames.com</b> <span>&#9658;</span></span>\n",
              "            <ul id=\"0ff3303f-315b-4712-9f05-e2e00f690fa4\" class=\"hidden\" style=\"margin-top: 0\"><li><a href=\"https://www.crazygames.com/game/cookie-clicker\" target=\"_blank\">https://<b style=\"color: black\">www.crazygames.com</b>/game/cookie-clicker</a></li></ul>\n",
              "        </li>\n",
              "        <li>\n",
              "            <span href=\"#\" style=\"cursor: pointer\"\n",
              "             onclick=\"                var el = document.getElementById('4daae36b-4027-4eb9-8519-ec96a1a7f2bd');                 this.getElementsByTagName('SPAN')[0].textContent =                     el.classList.contains('hidden') ? '&#9660' : '&#9658';                 el.classList.toggle('hidden')\"\n",
              "             >1 netloc: <b>www.greentractortalk.com</b> <span>&#9658;</span></span>\n",
              "            <ul id=\"4daae36b-4027-4eb9-8519-ec96a1a7f2bd\" class=\"hidden\" style=\"margin-top: 0\"><li><a href=\"https://www.greentractortalk.com/threads/5065e-just-clicks.13488/\" target=\"_blank\">https://<b style=\"color: black\">www.greentractortalk.com</b>/threads/5065e-just-clicks.13488/</a></li></ul>\n",
              "        </li>\n",
              "        <li>\n",
              "            <span href=\"#\" style=\"cursor: pointer\"\n",
              "             onclick=\"                var el = document.getElementById('ef89233b-3357-419b-b175-f8a646967ed2');                 this.getElementsByTagName('SPAN')[0].textContent =                     el.classList.contains('hidden') ? '&#9660' : '&#9658';                 el.classList.toggle('hidden')\"\n",
              "             >1 netloc: <b>www.healthline.com</b> <span>&#9658;</span></span>\n",
              "            <ul id=\"ef89233b-3357-419b-b175-f8a646967ed2\" class=\"hidden\" style=\"margin-top: 0\"><li><a href=\"https://www.healthline.com/nutrition/mind-diet\" target=\"_blank\">https://<b style=\"color: black\">www.healthline.com</b>/nutrition/mind-diet</a></li></ul>\n",
              "        </li>\n",
              "        <li>\n",
              "            <span href=\"#\" style=\"cursor: pointer\"\n",
              "             onclick=\"                var el = document.getElementById('21c62e2a-db46-4cc9-9eef-ec0cab7654d5');                 this.getElementsByTagName('SPAN')[0].textContent =                     el.classList.contains('hidden') ? '&#9660' : '&#9658';                 el.classList.toggle('hidden')\"\n",
              "             >1 netloc: <b>www.kongregate.com</b> <span>&#9658;</span></span>\n",
              "            <ul id=\"21c62e2a-db46-4cc9-9eef-ec0cab7654d5\" class=\"hidden\" style=\"margin-top: 0\"><li><a href=\"https://www.kongregate.com/games/bobermen1/spam-clicks\" target=\"_blank\">https://<b style=\"color: black\">www.kongregate.com</b>/games/bobermen1/spam-clicks</a></li></ul>\n",
              "        </li>\n",
              "        <li>\n",
              "            <span href=\"#\" style=\"cursor: pointer\"\n",
              "             onclick=\"                var el = document.getElementById('5cd01348-af97-4fde-9972-471e18900453');                 this.getElementsByTagName('SPAN')[0].textContent =                     el.classList.contains('hidden') ? '&#9660' : '&#9658';                 el.classList.toggle('hidden')\"\n",
              "             >1 netloc: <b>www.medwrench.com</b> <span>&#9658;</span></span>\n",
              "            <ul id=\"5cd01348-af97-4fde-9972-471e18900453\" class=\"hidden\" style=\"margin-top: 0\"><li><a href=\"https://www.medwrench.com/equipment/942/ge-healthcare-dash-4000\" target=\"_blank\">https://<b style=\"color: black\">www.medwrench.com</b>/equipment/942/ge-healthcare-dash-4000</a></li></ul>\n",
              "        </li>\n",
              "        <li>\n",
              "            <span href=\"#\" style=\"cursor: pointer\"\n",
              "             onclick=\"                var el = document.getElementById('17310a35-3abb-43a8-82dd-1e4765d1abb3');                 this.getElementsByTagName('SPAN')[0].textContent =                     el.classList.contains('hidden') ? '&#9660' : '&#9658';                 el.classList.toggle('hidden')\"\n",
              "             >1 netloc: <b>www.quora.com</b> <span>&#9658;</span></span>\n",
              "            <ul id=\"17310a35-3abb-43a8-82dd-1e4765d1abb3\" class=\"hidden\" style=\"margin-top: 0\"><li><a href=\"https://www.quora.com/What-would-cause-a-popping-crackling-sound-in-one-of-my-stereo-speakers\" target=\"_blank\">https://<b style=\"color: black\">www.quora.com</b>/What-would-cause-a-popping-crackling-sound-in-one-of-my-stereo-speakers</a></li></ul>\n",
              "        </li>\n",
              "        <li>\n",
              "            <span href=\"#\" style=\"cursor: pointer\"\n",
              "             onclick=\"                var el = document.getElementById('a2cdbea5-4672-4516-a8f1-ef922c21225d');                 this.getElementsByTagName('SPAN')[0].textContent =                     el.classList.contains('hidden') ? '&#9660' : '&#9658';                 el.classList.toggle('hidden')\"\n",
              "             >1 path start: <b>/Dash_Caps___Dash_Pads.html</b> <span>&#9658;</span></span>\n",
              "            <ul id=\"a2cdbea5-4672-4516-a8f1-ef922c21225d\" class=\"hidden\" style=\"margin-top: 0\"><li><a href=\"http://toyheadauto.com/Dash_Caps___Dash_Pads.html\" target=\"_blank\">http://toyheadauto.com/<b style=\"color: black\">Dash_Caps___Dash_Pads.html</b></a></li></ul>\n",
              "        </li>\n",
              "        <li>\n",
              "            <span href=\"#\" style=\"cursor: pointer\"\n",
              "             onclick=\"                var el = document.getElementById('447a4ebe-de8b-4dba-ad60-ec521f21581a');                 this.getElementsByTagName('SPAN')[0].textContent =                     el.classList.contains('hidden') ? '&#9660' : '&#9658';                 el.classList.toggle('hidden')\"\n",
              "             >1 path start: <b>/What-would-cause-a-popping-crackling-sound-in-one-of-my-stereo-speakers</b> <span>&#9658;</span></span>\n",
              "            <ul id=\"447a4ebe-de8b-4dba-ad60-ec521f21581a\" class=\"hidden\" style=\"margin-top: 0\"><li><a href=\"https://www.quora.com/What-would-cause-a-popping-crackling-sound-in-one-of-my-stereo-speakers\" target=\"_blank\">https://www.quora.com/<b style=\"color: black\">What-would-cause-a-popping-crackling-sound-in-one-of-my-stereo-speakers</b></a></li></ul>\n",
              "        </li>\n",
              "        <li>\n",
              "            <span href=\"#\" style=\"cursor: pointer\"\n",
              "             onclick=\"                var el = document.getElementById('68879ae0-7c0f-4d74-b650-2fceea1cfee8');                 this.getElementsByTagName('SPAN')[0].textContent =                     el.classList.contains('hidden') ? '&#9660' : '&#9658';                 el.classList.toggle('hidden')\"\n",
              "             >1 path start: <b>/equipment</b> <span>&#9658;</span></span>\n",
              "            <ul id=\"68879ae0-7c0f-4d74-b650-2fceea1cfee8\" class=\"hidden\" style=\"margin-top: 0\"><li><a href=\"https://www.medwrench.com/equipment/942/ge-healthcare-dash-4000\" target=\"_blank\">https://www.medwrench.com/<b style=\"color: black\">equipment</b>/942/ge-healthcare-dash-4000</a></li></ul>\n",
              "        </li></ul>"
            ],
            "text/plain": [
              "[(('all', ''),\n",
              "  {'len': 15,\n",
              "   'sample': ['https://analytics.twitter.com/',\n",
              "    'https://carstereoremoval.com/htm/stereoremovalChevrolet.htm',\n",
              "    'https://www.medwrench.com/equipment/942/ge-healthcare-dash-4000']}),\n",
              " (('netloc', 'top50adagencies.com'),\n",
              "  {'len': 2,\n",
              "   'sample': ['https://top50adagencies.com/dashclicks.com',\n",
              "    'https://top50adagencies.com/dashclicks.com']}),\n",
              " (('path start', '/dashclicks.com'),\n",
              "  {'len': 2,\n",
              "   'sample': ['https://top50adagencies.com/dashclicks.com',\n",
              "    'https://top50adagencies.com/dashclicks.com']}),\n",
              " (('path start', '/threads'),\n",
              "  {'len': 2,\n",
              "   'sample': ['https://www.cadillacforums.com/threads/no-start-all-dash-lights-no-turn-over.495105/',\n",
              "    'https://www.greentractortalk.com/threads/5065e-just-clicks.13488/']}),\n",
              " (('netloc', 'analytics.twitter.com'),\n",
              "  {'len': 1, 'sample': ['https://analytics.twitter.com/']}),\n",
              " (('netloc', 'carstereoremoval.com'),\n",
              "  {'len': 1,\n",
              "   'sample': ['https://carstereoremoval.com/htm/stereoremovalChevrolet.htm']}),\n",
              " (('netloc', 'toyheadauto.com'),\n",
              "  {'len': 1, 'sample': ['http://toyheadauto.com/Dash_Caps___Dash_Pads.html']}),\n",
              " (('netloc', 'troubleshootmyvehicle.com'),\n",
              "  {'len': 1,\n",
              "   'sample': ['https://troubleshootmyvehicle.com/honda/1.6L/under-dash-fuse-box']}),\n",
              " (('netloc', 'www.billstractor.net'),\n",
              "  {'len': 1, 'sample': ['https://www.billstractor.net/swkeknfor40m.html']}),\n",
              " (('netloc', 'www.cadillacforums.com'),\n",
              "  {'len': 1,\n",
              "   'sample': ['https://www.cadillacforums.com/threads/no-start-all-dash-lights-no-turn-over.495105/']}),\n",
              " (('netloc', 'www.compustar.com'),\n",
              "  {'len': 1, 'sample': ['https://www.compustar.com/']}),\n",
              " (('netloc', 'www.crazygames.com'),\n",
              "  {'len': 1, 'sample': ['https://www.crazygames.com/game/cookie-clicker']}),\n",
              " (('netloc', 'www.greentractortalk.com'),\n",
              "  {'len': 1,\n",
              "   'sample': ['https://www.greentractortalk.com/threads/5065e-just-clicks.13488/']}),\n",
              " (('netloc', 'www.healthline.com'),\n",
              "  {'len': 1, 'sample': ['https://www.healthline.com/nutrition/mind-diet']}),\n",
              " (('netloc', 'www.kongregate.com'),\n",
              "  {'len': 1,\n",
              "   'sample': ['https://www.kongregate.com/games/bobermen1/spam-clicks']}),\n",
              " (('netloc', 'www.medwrench.com'),\n",
              "  {'len': 1,\n",
              "   'sample': ['https://www.medwrench.com/equipment/942/ge-healthcare-dash-4000']}),\n",
              " (('netloc', 'www.quora.com'),\n",
              "  {'len': 1,\n",
              "   'sample': ['https://www.quora.com/What-would-cause-a-popping-crackling-sound-in-one-of-my-stereo-speakers']}),\n",
              " (('path start', '/Dash_Caps___Dash_Pads.html'),\n",
              "  {'len': 1, 'sample': ['http://toyheadauto.com/Dash_Caps___Dash_Pads.html']}),\n",
              " (('path start',\n",
              "   '/What-would-cause-a-popping-crackling-sound-in-one-of-my-stereo-speakers'),\n",
              "  {'len': 1,\n",
              "   'sample': ['https://www.quora.com/What-would-cause-a-popping-crackling-sound-in-one-of-my-stereo-speakers']}),\n",
              " (('path start', '/equipment'),\n",
              "  {'len': 1,\n",
              "   'sample': ['https://www.medwrench.com/equipment/942/ge-healthcare-dash-4000']})]"
            ]
          },
          "metadata": {
            "tags": []
          },
          "execution_count": 68
        }
      ]
    },
    {
      "cell_type": "markdown",
      "metadata": {
        "id": "iDAfrw_IAPOl"
      },
      "source": [
        "# **EXTRACT DOMAIN NAME FROM URL**"
      ]
    },
    {
      "cell_type": "code",
      "metadata": {
        "id": "LjIZ053xAPOl"
      },
      "source": [
        "def domain_finder(link):\n",
        "    import string\n",
        "    dot_splitter = link.split('.')\n",
        "\n",
        "    seperator_first = 0\n",
        "    if '//' in dot_splitter[0]:\n",
        "        seperator_first = (dot_splitter[0].find('//') + 2)\n",
        "\n",
        "    seperator_end = ''\n",
        "    for i in dot_splitter[2]:\n",
        "        if i in string.punctuation:\n",
        "            seperator_end = i\n",
        "            break\n",
        "\n",
        "    if seperator_end:\n",
        "        end_ = dot_splitter[2].split(seperator_end)[0]\n",
        "    else:\n",
        "        end_ = dot_splitter[2]\n",
        "\n",
        "    domain = [dot_splitter[0][seperator_first:], dot_splitter[1], end_]\n",
        "    domain = '.'.join(domain)\n",
        "\n",
        "    return domain"
      ],
      "execution_count": null,
      "outputs": []
    },
    {
      "cell_type": "code",
      "metadata": {
        "id": "T4kb-yB7APOl",
        "outputId": "12b7f017-6554-4603-b533-bc883845a6eb"
      },
      "source": [
        "domain_finder('https://www.facebook.com/pages/DashClicks%20-%20Agency%20Platform/286937658751237')"
      ],
      "execution_count": null,
      "outputs": [
        {
          "output_type": "execute_result",
          "data": {
            "text/plain": [
              "'www.facebook.com'"
            ]
          },
          "metadata": {
            "tags": []
          },
          "execution_count": 61
        }
      ]
    }
  ]
}